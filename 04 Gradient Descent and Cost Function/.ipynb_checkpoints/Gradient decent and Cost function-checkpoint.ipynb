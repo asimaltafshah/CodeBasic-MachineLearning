{
 "cells": [
  {
   "cell_type": "markdown",
   "metadata": {},
   "source": [
    "# Gradient Decent and Cost function"
   ]
  },
  {
   "cell_type": "markdown",
   "metadata": {},
   "source": [
    "y = 2x + 3\n",
    "mean square error MSE"
   ]
  },
  {
   "cell_type": "markdown",
   "metadata": {},
   "source": [
    "<img src=\"mse.png\" width=500 height=400/>"
   ]
  },
  {
   "cell_type": "markdown",
   "metadata": {},
   "source": [
    "<img src=\"mse2.png\" width=500 height=400/>\n",
    "<img src=\"mse3.png\" width=500 height=400/>\n",
    "<img src=\"mse4.png\" />\n",
    "<img src=\"mse5.png\" width=500 height=400/>\n",
    "<img src=\"mse6.png\" width=500 height=400/>\n",
    "<img src=\"mse7.png\" width=500 height=400/>\n",
    "<img src=\"mse8.png\" width=500 height=400/>\n",
    "<img src=\"mse9.png\" width=500 height=400/>\n",
    "<img src=\"mse10.png\" width=500 height=400/>"
   ]
  },
  {
   "cell_type": "markdown",
   "metadata": {},
   "source": [
    "#### partial derivative"
   ]
  },
  {
   "cell_type": "markdown",
   "metadata": {},
   "source": [
    "<img src=\"mse12.png\" width=700 height=400/>"
   ]
  },
  {
   "cell_type": "markdown",
   "metadata": {},
   "source": [
    "<img src=\"mse13.png\" width=700 height=400/>"
   ]
  },
  {
   "cell_type": "code",
   "execution_count": null,
   "metadata": {},
   "outputs": [],
   "source": []
  }
 ],
 "metadata": {
  "kernelspec": {
   "display_name": "Python 3",
   "language": "python",
   "name": "python3"
  },
  "language_info": {
   "codemirror_mode": {
    "name": "ipython",
    "version": 3
   },
   "file_extension": ".py",
   "mimetype": "text/x-python",
   "name": "python",
   "nbconvert_exporter": "python",
   "pygments_lexer": "ipython3",
   "version": "3.8.5"
  }
 },
 "nbformat": 4,
 "nbformat_minor": 4
}
